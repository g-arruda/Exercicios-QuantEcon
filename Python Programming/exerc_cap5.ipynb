{
 "cells": [
  {
   "cell_type": "markdown",
   "metadata": {},
   "source": [
    "## Exercício 5.1\n",
    "### Parte 1\n",
    "Dado duas tuplas numéricas x_val e y_val, calcule o produto interno utilizando zip()"
   ]
  },
  {
   "cell_type": "code",
   "execution_count": 9,
   "metadata": {},
   "outputs": [
    {
     "data": {
      "text/plain": [
       "78"
      ]
     },
     "execution_count": 9,
     "metadata": {},
     "output_type": "execute_result"
    }
   ],
   "source": [
    "def inner_prod(x_val,y_val):\n",
    "    result = 0\n",
    "    for x,y in zip(x_val,y_val):\n",
    "        prod = x*y\n",
    "        result += prod\n",
    "    return result\n",
    "\n",
    "\n",
    "inner_prod(x_val=(5,7), y_val=(3,9))"
   ]
  },
  {
   "cell_type": "markdown",
   "metadata": {},
   "source": [
    "### Parte 2\n",
    "Conte os números impares na sequencia 0,...,99 em apenas uma linha"
   ]
  },
  {
   "cell_type": "code",
   "execution_count": 10,
   "metadata": {},
   "outputs": [
    {
     "name": "stdout",
     "output_type": "stream",
     "text": [
      "\n",
      "Tem um total de 50 números impares. \n",
      "\n"
     ]
    }
   ],
   "source": [
    "def contador_num_impares(n):\n",
    "    seq = list(range(n))\n",
    "    contador = 0\n",
    "    for i in seq:\n",
    "        if i % 2 != 0:\n",
    "            contador+=1\n",
    "    return print(f'\\nTem um total de {contador} números impares. \\n')\n",
    "\n",
    "contador_num_impares(100)"
   ]
  },
  {
   "cell_type": "markdown",
   "metadata": {},
   "source": [
    "Agora fazendo tudo em uma linha"
   ]
  },
  {
   "cell_type": "code",
   "execution_count": 11,
   "metadata": {},
   "outputs": [],
   "source": [
    "contador = sum(1 for x in range(100) if x % 2 != 0)"
   ]
  },
  {
   "cell_type": "markdown",
   "metadata": {},
   "source": [
    "### Parte 3 \n",
    "Dado pairs = ((2, 5), (4, 2), (9, 8), (12, 10)), conte os pares (a,b) em que ambos são par."
   ]
  },
  {
   "cell_type": "code",
   "execution_count": 12,
   "metadata": {},
   "outputs": [
    {
     "name": "stdout",
     "output_type": "stream",
     "text": [
      "2\n"
     ]
    }
   ],
   "source": [
    "pairs = ((2, 5), (4, 2), (9, 8), (12, 10))\n",
    "\n",
    "def contando_pares(x):\n",
    "    contador = 0\n",
    "    for i in x:\n",
    "        if i[0] % 2 == 0 and i[1] % 2 == 0:\n",
    "            contador += 1\n",
    "    return contador\n",
    "\n",
    "contando_pares(pairs)\n",
    "\n",
    "\n",
    "qnt_pares_par = sum(1 for x in pairs if x[0] % 2 == 0 and x[1] % 2 == 0)\n",
    "print(qnt_pares_par)"
   ]
  },
  {
   "cell_type": "markdown",
   "metadata": {},
   "source": [
    "## Exercício 5.2\n",
    "Criar uma função polinomial p(x, coef) -> p(x) = a_0 + a_1*x^1 + a_2*x^2 +... \n",
    "\n",
    "Onde x é um numero real e coef é um vetor"
   ]
  },
  {
   "cell_type": "code",
   "execution_count": 13,
   "metadata": {},
   "outputs": [
    {
     "data": {
      "text/plain": [
       "6"
      ]
     },
     "execution_count": 13,
     "metadata": {},
     "output_type": "execute_result"
    }
   ],
   "source": [
    "def func_pol(x, coef):\n",
    "    result = 0 \n",
    "    for i,j in enumerate(coef):\n",
    "        result += j * x**i\n",
    "\n",
    "    return result\n",
    "\n",
    "func_pol(1, (2,4))"
   ]
  },
  {
   "cell_type": "markdown",
   "metadata": {},
   "source": [
    "## Exercício 5.3\n",
    "Criar uma função que recebe um string como argumento e conta quantas letras maiúsculas tem."
   ]
  },
  {
   "cell_type": "code",
   "execution_count": 14,
   "metadata": {},
   "outputs": [
    {
     "data": {
      "text/plain": [
       "2"
      ]
     },
     "execution_count": 14,
     "metadata": {},
     "output_type": "execute_result"
    }
   ],
   "source": [
    "def count_upper(string):\n",
    "    \n",
    "    assert isinstance(string, str), \"O argumento deve ser uma string.\"\n",
    "    \n",
    "    return sum(x.isupper() for x in string)    \n",
    "    \n",
    "count_upper(\"Abc D\")"
   ]
  },
  {
   "cell_type": "markdown",
   "metadata": {},
   "source": [
    "## Exercício 5.4\n",
    "Criar uma função que receba duas sequencias como argumento e retorna *TRUE* se a primeira sequencia esta contida na segunda *NÃO USAR O MÉTODO \"SET\"*"
   ]
  },
  {
   "cell_type": "code",
   "execution_count": 15,
   "metadata": {},
   "outputs": [
    {
     "data": {
      "text/plain": [
       "True"
      ]
     },
     "execution_count": 15,
     "metadata": {},
     "output_type": "execute_result"
    }
   ],
   "source": [
    "def esta_contida(seq_a, seq_b):\n",
    "    for i in seq_a:\n",
    "        if i not in seq_b:\n",
    "            return False\n",
    "    return True\n",
    "\n",
    "\n",
    "def alt_esta_cont(seq_a, seq_b):\n",
    "    return all(elemento in seq_b for elemento in seq_a)\n",
    "       \n",
    "\n",
    "a = list(range(1,10))\n",
    "b = list(range(1,9))\n",
    "\n",
    "esta_contida(b,a)\n",
    "\n",
    "alt_esta_cont(b,a)"
   ]
  },
  {
   "cell_type": "markdown",
   "metadata": {},
   "source": [
    "## Exercício 5.5.\n",
    "Criar uma função \"linapprox\" que faça uma interpolação linear, a função deve receber estes argumentos:\n",
    " * Uma função f() que vai mapear o intervalo [a,b] na reta real\n",
    " * dois escalares a,b que dará os limites do intervalo\n",
    " * Um inteiro \"n\" que vai determinar o numero de \"grid points\""
   ]
  },
  {
   "cell_type": "markdown",
   "metadata": {},
   "source": [
    "## Exercício 5.6\n",
    "Usar a comprehension syntax para simplificar o loop\n",
    "```Python\n",
    "n = 100\n",
    "ϵ_values = []\n",
    "for i in range(n):\n",
    "    e = np.random.randn()\n",
    "    ϵ_values.append(e) "
   ]
  },
  {
   "cell_type": "code",
   "execution_count": 17,
   "metadata": {},
   "outputs": [
    {
     "name": "stdout",
     "output_type": "stream",
     "text": [
      "[-0.5674956912248914, -0.4173607252733138, 0.9396578110235799, -0.44504633205608496, -1.2088400860579909, -0.46443138438280634, -0.5723720347611232, 0.4642516262915145, -0.9323399921952632, 0.8842435116127663, 1.6608589769505109, 1.7386314299379673, 0.8085583314674984, -0.9166733212560928, -0.12450204673365528, 0.4813812771629277, 1.510022469655355, -1.000344508837036, 0.1473627918742736, 1.3386725558771282, -0.2369466715666358, -1.2356141897283595, 0.0033859213016826126, 0.2465606855049919, -0.6894985490472834, 0.09695474992391338, -0.9481210303945398, -0.9480890135079839, -0.28296361617363247, -0.12643881531125412, 0.17411649949845637, -1.206321374359696, -0.5647992116576434, 0.4926370286004323, -1.8012013130379618, -0.8265986397897545, -0.5355228587937618, 0.6629364128829038, 0.21444594045230184, 0.438824008988086, 0.9060703825295313, 0.9670349689859854, 0.3319252215288248, 1.1590500735883398, 0.30296101821251714, -0.04755696484940349, -0.07646171734367654, 1.9511865985402836, 2.6211368932202816, 0.26079881851513464, 0.1397135422122791, 0.2352246126792865, 1.0679685490652289, 0.5618139960305046, 1.111242608673573, 0.5077911863229055, 0.7179393358700857, -2.1693673777906417, 1.228338529457154, -1.3413782417854496, 0.3073258852431203, -0.18776678133587288, 1.2063253297550551, -0.7762371713631057, -1.1813555411266274, -1.7653860112158322, -1.4898727403860406, -0.8790896691652283, 0.3190657248063042, 2.158125938184446, -0.7473157875127929, -0.04328164812451433, -2.105869038659951, -1.0741744892295593, 1.1634071638760224, -0.3864528808970561, 2.0527451225797986, 1.1834259177862814, 1.9128694617243742, -0.17131581330265594, -1.7234604624608798, -0.8842016633100906, -1.4493438506414642, -0.22962964758940996, 0.12694677806856572, -0.44316456677196264, -0.028718059216055435, -0.5406905654495637, -1.718505498071894, 0.01959525176201566, -0.3229642030204325, 0.9176032482147082, 0.08897172181083518, -2.17127153043539, 0.05018274598975206, -1.1223576969587352, -0.24513685111670055, -0.43603585368498093, 1.2008021674759692, -0.6558237753936066]\n"
     ]
    }
   ],
   "source": [
    "import numpy as np\n",
    "\n",
    "n = 100\n",
    "e_values = [np.random.randn() for i in range(n)]\n"
   ]
  }
 ],
 "metadata": {
  "kernelspec": {
   "display_name": "Python 3",
   "language": "python",
   "name": "python3"
  },
  "language_info": {
   "codemirror_mode": {
    "name": "ipython",
    "version": 3
   },
   "file_extension": ".py",
   "mimetype": "text/x-python",
   "name": "python",
   "nbconvert_exporter": "python",
   "pygments_lexer": "ipython3",
   "version": "3.10.12"
  }
 },
 "nbformat": 4,
 "nbformat_minor": 2
}
