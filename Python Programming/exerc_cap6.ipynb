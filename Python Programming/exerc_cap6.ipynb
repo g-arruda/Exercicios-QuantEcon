{
 "cells": [
  {
   "cell_type": "markdown",
   "metadata": {},
   "source": [
    "### Exercício 8.1\n",
    "Criar uma função de distribuição acumulada empírica (ECDF) correspondente a uma amostra $\\{X_i\\}_{i=1}^n$, sendo definida como:\n",
    "\n",
    "$$F_n(x) := \\frac{1}{n} \\sum_{i=1}^n 1\\{X_i \\leq x\\} \\quad (x \\in \\mathbb{R})$$\n",
    "\n",
    "- $1\\{X_i \\leq x\\}$ é uma função indicadora (um se $X_i \\leq x$ e zero caso contrário)\n",
    "\n",
    "\n",
    "Implemente $F_n$ como uma classe chamada `ECDF`, onde:\n",
    "\n",
    "- Uma amostra dada $\\{X_i\\}_{i=1}^n$ são os dados da instância, armazenados como `self.observations`.\n",
    "- A classe implementa um método `__call__` que retorna $F_n(x)$ para qualquer $x$.\n",
    "\n",
    "O código deve funcionar da seguinte forma (modulo aleatoriedade):\n",
    "\n",
    "```python\n",
    "from random import uniform\n",
    "\n",
    "samples = [uniform(0, 1) for i in range(10)]\n",
    "F = ECDF(samples)\n",
    "F(0.5)  # Avaliar a ECDF em x = 0.5\n",
    "\n",
    "\n",
    "F.observations = [uniform(0, 1) for i in range(1000)]\n",
    "F(0.5)"
   ]
  },
  {
   "cell_type": "code",
   "execution_count": 16,
   "metadata": {},
   "outputs": [
    {
     "name": "stdout",
     "output_type": "stream",
     "text": [
      "0.6\n",
      "0.4956\n"
     ]
    }
   ],
   "source": [
    "from random import uniform\n",
    "\n",
    "class ecdf:\n",
    "    \n",
    "    def __init__(self, observations):\n",
    "        \n",
    "        self.observations = observations\n",
    "        \n",
    "    def __call__(self, x):\n",
    "        return sum(1 for obs in self.observations if obs < x) / len(self.observations)\n",
    "    \n",
    "\n",
    "amostra = [uniform(0,1) for i in range(10)]\n",
    "\n",
    "f = ecdf(amostra)\n",
    "\n",
    "print(f(0.5))\n",
    "\n",
    "f.observations = [uniform(0,1) for i in range(10000)]\n",
    "\n",
    "print(f(0.5))\n"
   ]
  },
  {
   "cell_type": "markdown",
   "metadata": {},
   "source": [
    "### Exercício 8.2\n",
    "\n",
    "Criar uma classe Polinomial, que:\n",
    "- Calcula um $p(x)$ para qualquer $x$\n",
    "- Diferencie o polinômio, substituindo os coeficientes originais pelos coeficientes de sua derivada $p'$\n",
    "- Nao utilize nenhum pacote"
   ]
  },
  {
   "cell_type": "code",
   "execution_count": 17,
   "metadata": {},
   "outputs": [
    {
     "name": "stdout",
     "output_type": "stream",
     "text": [
      "[2, 3, 10, 7, 5]\n",
      "Polinômio (x=10): 58032\n",
      "Derivada do polinômio (x=10): 22303\n",
      "Os coeficientes da derivada são: [3, 20, 21, 20]\n"
     ]
    }
   ],
   "source": [
    "import random\n",
    "\n",
    "class Polinomio:\n",
    "    \n",
    "    def __init__(self, coef, x):\n",
    "        self.coef = coef\n",
    "        self.x = x\n",
    "        \n",
    "    def __call__(self):\n",
    "        \n",
    "        result = sum(j * self.x ** i for i, j in enumerate(self.coef))\n",
    "        return f\"Polinômio (x={self.x}): {result}\"\n",
    "    \n",
    "    def derivada(self):\n",
    "        \n",
    "        result = sum(j * i * self.x ** (i-1) for i, j in enumerate(self.coef) if i != 0)\n",
    "        return f\"Derivada do polinômio (x={self.x}): {result}\"\n",
    "    \n",
    "    def derivada_coef(self):\n",
    "        \n",
    "        new_coef = [i * j for i, j in enumerate(self.coef) if i>0]\n",
    "        return f\"Os coeficientes da derivada são: {new_coef}\"\n",
    "        \n",
    "\n",
    "coef = [random.randint(1, 10) for i in range(5)]\n",
    "\n",
    "\n",
    "p = Polinomio(coef, 10)\n",
    "\n",
    "print(coef)\n",
    "print(p())\n",
    "print(p.derivada())\n",
    "print(p.derivada_coef())\n"
   ]
  }
 ],
 "metadata": {
  "kernelspec": {
   "display_name": "Python 3",
   "language": "python",
   "name": "python3"
  },
  "language_info": {
   "codemirror_mode": {
    "name": "ipython",
    "version": 3
   },
   "file_extension": ".py",
   "mimetype": "text/x-python",
   "name": "python",
   "nbconvert_exporter": "python",
   "pygments_lexer": "ipython3",
   "version": "3.10.12"
  }
 },
 "nbformat": 4,
 "nbformat_minor": 2
}
