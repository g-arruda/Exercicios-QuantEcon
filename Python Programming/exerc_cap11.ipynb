{
 "cells": [
  {
   "cell_type": "markdown",
   "metadata": {},
   "source": [
    "### Exercício 11.1\n",
    "\n",
    "Criar a função polinomial p(x, coef) utilizando o numpy.\n",
    "\n",
    "Nota: nao utilizar o *np.polyn1d()*"
   ]
  },
  {
   "cell_type": "code",
   "execution_count": 29,
   "metadata": {},
   "outputs": [
    {
     "name": "stdout",
     "output_type": "stream",
     "text": [
      "251.5\n"
     ]
    }
   ],
   "source": [
    "import numpy as np\n",
    "\n",
    "\n",
    "def polinomio(x, coef):\n",
    "    point = np.full(len(np.asarray(coef)), x)\n",
    "    point[0] = 1\n",
    "    potencia = np.cumprod(point)\n",
    "    \n",
    "    return print(coef @ potencia)\n",
    "\n",
    "coef = np.linspace(1, 10, 5)\n",
    "\n",
    "polinomio(2,coef)\n",
    "\n",
    "\n"
   ]
  },
  {
   "cell_type": "code",
   "execution_count": null,
   "metadata": {},
   "outputs": [],
   "source": []
  }
 ],
 "metadata": {
  "kernelspec": {
   "display_name": "Python 3",
   "language": "python",
   "name": "python3"
  },
  "language_info": {
   "codemirror_mode": {
    "name": "ipython",
    "version": 3
   },
   "file_extension": ".py",
   "mimetype": "text/x-python",
   "name": "python",
   "nbconvert_exporter": "python",
   "pygments_lexer": "ipython3",
   "version": "3.10.12"
  }
 },
 "nbformat": 4,
 "nbformat_minor": 2
}
